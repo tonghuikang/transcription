{
 "cells": [
  {
   "cell_type": "code",
   "execution_count": 1,
   "metadata": {},
   "outputs": [],
   "source": [
    "# import x01_generate_notes\n",
    "import x02_generate_midi\n",
    "import x03_generate_wav\n",
    "import x04_generate_wav_processed\n",
    "import x05_generate_spectrogram\n",
    "import x06_generate_label"
   ]
  },
  {
   "cell_type": "code",
   "execution_count": 2,
   "metadata": {},
   "outputs": [
    {
     "name": "stdout",
     "output_type": "stream",
     "text": [
      "mkdir: notes: File exists\n",
      "mkdir: midi: File exists\n",
      "mkdir: wav: File exists\n",
      "mkdir: wav_processed: File exists\n",
      "mkdir: spectrogram: File exists\n",
      "mkdir: label: File exists\n",
      "rm: ./wav_processed/*: No such file or directory\n",
      "rm: ./spectrogram/*: No such file or directory\n",
      "rm: ./label/*: No such file or directory\n"
     ]
    }
   ],
   "source": [
    "!mkdir notes\n",
    "!mkdir midi\n",
    "!mkdir wav\n",
    "!mkdir wav_processed\n",
    "!mkdir spectrogram\n",
    "!mkdir label\n",
    "!rm ./notes/*\n",
    "!rm ./midi/*\n",
    "!rm ./wav/*\n",
    "!rm ./wav_processed/*\n",
    "!rm ./spectrogram/*\n",
    "!rm ./label/*"
   ]
  },
  {
   "cell_type": "code",
   "execution_count": 3,
   "metadata": {},
   "outputs": [],
   "source": [
    "import numpy as np\n",
    "import random\n",
    "\n",
    "# this generates what time play what note and saves it to ./notes/\n",
    "\n",
    "def generate_note_file():\n",
    "    # could be summarised\n",
    "    sound_id = ''.join(random.choice('0123456789ABCDEF') for i in range(16))\n",
    "    \n",
    "    # t = 2 means the 1st second, since the tempo is 120bpm.\n",
    "    # this model does not assume any periodicity in transcription\n",
    "    t = 0.1\n",
    "    note_time_array = []\n",
    "    \n",
    "    chord_holder = []\n",
    "    \n",
    "    while t < 12:\n",
    "        t += 0.25 + np.random.uniform(0,1.1)**5\n",
    "        \n",
    "        notes_in_this_chord = []\n",
    "        \n",
    "        if len(chord_holder) and np.random.uniform() > 0.75:\n",
    "            notes_in_this_chord = chord_holder\n",
    "            if np.random.uniform() < 1/len(chord_holder)**4:\n",
    "                new_note = np.random.randint(24)\n",
    "                if new_note not in notes_in_this_chord:\n",
    "                    notes_in_this_chord.append(new_note)\n",
    "        \n",
    "        elif np.random.uniform() > 0.9:\n",
    "            # generate one note\n",
    "            new_note = np.random.randint(24)\n",
    "            \n",
    "        elif np.random.uniform() > 0.4 or t > 18:\n",
    "            # random generation\n",
    "            \n",
    "            if np.random.uniform() > 0.2:\n",
    "                new_note = np.random.randint(24)\n",
    "                if new_note not in notes_in_this_chord:\n",
    "                    notes_in_this_chord.append(new_note)\n",
    "\n",
    "            if np.random.uniform() > 0.2:\n",
    "                new_note = np.random.randint(24)\n",
    "                if new_note not in notes_in_this_chord:\n",
    "                    notes_in_this_chord.append(new_note)\n",
    "\n",
    "            if np.random.uniform() > 0.3:\n",
    "                new_note = np.random.randint(24)\n",
    "                if new_note not in notes_in_this_chord:\n",
    "                    notes_in_this_chord.append(new_note)\n",
    "\n",
    "            if np.random.uniform() > 0.3:\n",
    "                new_note = np.random.randint(24)\n",
    "                if new_note not in notes_in_this_chord:\n",
    "                    notes_in_this_chord.append(new_note)\n",
    "                \n",
    "        else:\n",
    "            # favouring usual chords\n",
    "            new_note = np.random.randint(24)\n",
    "            notes_in_this_chord.append(new_note)\n",
    "            \n",
    "            if np.random.uniform() > 0.8:\n",
    "                new_note = np.random.randint(24-7)\n",
    "                notes_in_this_chord.append(new_note)\n",
    "                notes_in_this_chord.append(new_note+3)\n",
    "                notes_in_this_chord.append(new_note+7)\n",
    "                \n",
    "            elif np.random.uniform() > 0.8:\n",
    "                new_note = np.random.randint(24-7)\n",
    "                notes_in_this_chord.append(new_note)\n",
    "                notes_in_this_chord.append(new_note+4)\n",
    "                notes_in_this_chord.append(new_note+7)\n",
    "                \n",
    "            elif np.random.uniform() > 0.9:\n",
    "                new_note = np.random.randint(24-7)\n",
    "                notes_in_this_chord.append(new_note)\n",
    "                notes_in_this_chord.append(new_note+3)\n",
    "                notes_in_this_chord.append(new_note+6)\n",
    "                \n",
    "            elif np.random.uniform() > 0.9:\n",
    "                new_note = np.random.randint(24-8)\n",
    "                notes_in_this_chord.append(new_note)\n",
    "                notes_in_this_chord.append(new_note+4)\n",
    "                notes_in_this_chord.append(new_note+8)\n",
    "                \n",
    "            elif np.random.uniform() > 0.95:\n",
    "                new_note = np.random.randint(24-12)\n",
    "                notes_in_this_chord.append(new_note)\n",
    "                notes_in_this_chord.append(new_note+3)\n",
    "                notes_in_this_chord.append(new_note+7)\n",
    "                notes_in_this_chord.append(new_note+12)\n",
    "                \n",
    "            elif np.random.uniform() > 0.95:\n",
    "                new_note = np.random.randint(24-12)\n",
    "                notes_in_this_chord.append(new_note)\n",
    "                notes_in_this_chord.append(new_note+4)\n",
    "                notes_in_this_chord.append(new_note+7)\n",
    "                notes_in_this_chord.append(new_note+12)\n",
    "                \n",
    "            elif np.random.uniform() > 0.95:\n",
    "                new_note = np.random.randint(24-12)\n",
    "                notes_in_this_chord.append(new_note)\n",
    "                notes_in_this_chord.append(new_note+3)\n",
    "                notes_in_this_chord.append(new_note+6)\n",
    "                notes_in_this_chord.append(new_note+12)\n",
    "                \n",
    "            elif np.random.uniform() > 0.95:\n",
    "                new_note = np.random.randint(24-12)\n",
    "                notes_in_this_chord.append(new_note)\n",
    "                notes_in_this_chord.append(new_note+4)\n",
    "                notes_in_this_chord.append(new_note+8)\n",
    "                notes_in_this_chord.append(new_note+12)\n",
    "                \n",
    "            else:\n",
    "                # generate one note\n",
    "                new_note = np.random.randint(24)\n",
    "                \n",
    "        chord_holder = notes_in_this_chord\n",
    "        for note in notes_in_this_chord:\n",
    "            note_time_array.append([t, note])\n",
    "            #print(t)\n",
    "            #print(notes_in_this_chord)\n",
    "                \n",
    "#     #print(note_time_array)\n",
    "    #print(np.shape(note_time_array))\n",
    "    np.save(\"./notes/\" + sound_id, np.array(note_time_array))"
   ]
  },
  {
   "cell_type": "code",
   "execution_count": 4,
   "metadata": {
    "scrolled": false
   },
   "outputs": [],
   "source": [
    "for _ in range(5):\n",
    "    generate_note_file()"
   ]
  },
  {
   "cell_type": "code",
   "execution_count": 5,
   "metadata": {},
   "outputs": [
    {
     "name": "stdout",
     "output_type": "stream",
     "text": [
      "5\n"
     ]
    }
   ],
   "source": [
    "import glob\n",
    "\n",
    "# for every (time-note) file in ./notes, generate .mid file \n",
    "\n",
    "notes = glob.glob(\"./notes/*.npy\")\n",
    "print(len(notes))\n",
    "\n",
    "for filename in notes:\n",
    "    sound_id = filename[-20:-4]\n",
    "    time_note_array = np.load(filename)\n",
    "    time_array, note_array = np.transpose(time_note_array)\n",
    "    x02_generate_midi.generate_midi_file(sound_id, time_array, np.array(note_array, dtype=int))"
   ]
  },
  {
   "cell_type": "code",
   "execution_count": 6,
   "metadata": {},
   "outputs": [
    {
     "name": "stdout",
     "output_type": "stream",
     "text": [
      "5\n"
     ]
    }
   ],
   "source": [
    "import glob\n",
    "\n",
    "# for every .mid file generate the .wav file with fluidsynth\n",
    "\n",
    "notes = glob.glob(\"./midi/*\")\n",
    "print(len(notes))\n",
    "for filename in notes:\n",
    "    x03_generate_wav.convert_midi_to_signal(filename)"
   ]
  },
  {
   "cell_type": "code",
   "execution_count": 7,
   "metadata": {
    "scrolled": true
   },
   "outputs": [
    {
     "name": "stdout",
     "output_type": "stream",
     "text": [
      "5\n"
     ]
    }
   ],
   "source": [
    "import glob\n",
    "# for every .wav file do some processing and generate another .wav file\n",
    "\n",
    "files = glob.glob('./wav/*')\n",
    "save_location = './wav_processed/'\n",
    "print(len(files))\n",
    "for filename in files:\n",
    "    x04_generate_wav_processed.process_wav(filename, save_location)"
   ]
  },
  {
   "cell_type": "code",
   "execution_count": 8,
   "metadata": {},
   "outputs": [],
   "source": [
    "import soundfile as sf\n",
    "import sounddevice as sd\n",
    "\n",
    "audio, sr = sf.read(files[0])\n",
    "\n",
    "sd.play(audio, samplerate=sr)"
   ]
  },
  {
   "cell_type": "code",
   "execution_count": 9,
   "metadata": {},
   "outputs": [
    {
     "name": "stdout",
     "output_type": "stream",
     "text": [
      "5\n"
     ]
    }
   ],
   "source": [
    "import glob\n",
    "files = glob.glob('./wav_processed/*')\n",
    "print(len(files))\n",
    "for filename in files:\n",
    "    x05_generate_spectrogram.generate_spectrogram(filename)"
   ]
  },
  {
   "cell_type": "code",
   "execution_count": 10,
   "metadata": {},
   "outputs": [],
   "source": [
    "# import glob\n",
    "# files = glob.glob('../*.wav')\n",
    "# #print(len(files))\n",
    "# for filename in files:\n",
    "#     x05_generate_spectrogram.generate_spectrogram(filename)"
   ]
  },
  {
   "cell_type": "code",
   "execution_count": 11,
   "metadata": {},
   "outputs": [],
   "source": [
    "import soundfile as sf\n",
    "import sounddevice as sd\n",
    "\n",
    "audio, sr = sf.read(files[0])\n",
    "\n",
    "sd.play(audio, samplerate=sr)"
   ]
  },
  {
   "cell_type": "code",
   "execution_count": 12,
   "metadata": {},
   "outputs": [
    {
     "name": "stdout",
     "output_type": "stream",
     "text": [
      "5\n"
     ]
    }
   ],
   "source": [
    "# for every time-note file .npy generate .npy labels\n",
    "\n",
    "import glob\n",
    "\n",
    "notes = glob.glob(\"./notes/*.npy\")\n",
    "print(len(notes))\n",
    "\n",
    "for filename in notes:\n",
    "#     sound_id = filename[-20:-4]\n",
    "#     time_note_array = np.load(filename)\n",
    "#     time_array, note_array = np.transpose(time_note_array)\n",
    "    x06_generate_label.generate_label(filename)"
   ]
  },
  {
   "cell_type": "code",
   "execution_count": 13,
   "metadata": {},
   "outputs": [],
   "source": [
    "# !ls ./notes/\n",
    "# !ls ./midi/\n",
    "# !ls ./wav/\n",
    "# !ls ./wav_processed/\n",
    "# !ls ./spectrogram/\n",
    "# !ls ./label/"
   ]
  },
  {
   "cell_type": "code",
   "execution_count": null,
   "metadata": {},
   "outputs": [],
   "source": []
  }
 ],
 "metadata": {
  "kernelspec": {
   "display_name": "Python [conda env:nd]",
   "language": "python",
   "name": "conda-env-nd-py"
  },
  "language_info": {
   "codemirror_mode": {
    "name": "ipython",
    "version": 3
   },
   "file_extension": ".py",
   "mimetype": "text/x-python",
   "name": "python",
   "nbconvert_exporter": "python",
   "pygments_lexer": "ipython3",
   "version": "3.6.5"
  }
 },
 "nbformat": 4,
 "nbformat_minor": 2
}
