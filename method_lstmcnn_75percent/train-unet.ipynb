{
 "cells": [
  {
   "cell_type": "code",
   "execution_count": 1,
   "metadata": {},
   "outputs": [
    {
     "name": "stderr",
     "output_type": "stream",
     "text": [
      "Using TensorFlow backend.\n"
     ]
    }
   ],
   "source": [
    "import pandas as pd\n",
    "import numpy as np\n",
    "import glob\n",
    "import gc\n",
    "import keras \n",
    "from keras.layers import LSTM, Dense, TimeDistributed, Dropout, MaxPooling2D, Conv2D, Input\n",
    "from keras.layers import Flatten, BatchNormalization, Activation, Reshape, concatenate\n",
    "from keras.models import Model\n",
    "import random\n",
    "from sklearn.model_selection import KFold\n",
    "import keras.backend as K\n",
    "from sklearn.utils import class_weight\n",
    "\n",
    "gc.enable()"
   ]
  },
  {
   "cell_type": "code",
   "execution_count": 2,
   "metadata": {},
   "outputs": [],
   "source": [
    "spectrums_index = np.array(glob.glob('E:/note_detection/spectrogram/*'))\n",
    "labels_index = np.array(glob.glob('E:/note_detection/label/*'))"
   ]
  },
  {
   "cell_type": "markdown",
   "metadata": {},
   "source": [
    "count = 0\n",
    "for i in range(len(labels_index)):\n",
    "    num = np.load(spectrums_index[i]).shape[1]//np.load(labels_index[i]).shape[0]\n",
    "    if num == 24:\n",
    "        count += 1\n",
    "    elif num != 23:\n",
    "        print(num)"
   ]
  },
  {
   "cell_type": "code",
   "execution_count": 3,
   "metadata": {},
   "outputs": [],
   "source": [
    "num_samples = 5000\n",
    "height = 108\n",
    "width = 108\n",
    "steps = 20\n",
    "spec_list = spectrums_index[:num_samples]\n",
    "labe_list = labels_index[:num_samples]"
   ]
  },
  {
   "cell_type": "code",
   "execution_count": 4,
   "metadata": {},
   "outputs": [],
   "source": [
    "kf = KFold(n_splits=12, random_state=7)"
   ]
  },
  {
   "cell_type": "code",
   "execution_count": 5,
   "metadata": {},
   "outputs": [],
   "source": [
    "def generate_random_cnn_lstm_input_and_target_label(spectrogram, label):\n",
    "    length = np.shape(spectrogram)[1] - 108\n",
    "    random_point = np.random.randint(0,length)\n",
    "\n",
    "    cnn_input = spectrogram[:,random_point:random_point+108]\n",
    "    lstm_input = label[random_point//27:random_point//27+20,:]\n",
    "    target_label = label[random_point//27+20,:]\n",
    "        \n",
    "    return cnn_input, lstm_input, target_label"
   ]
  },
  {
   "cell_type": "code",
   "execution_count": 6,
   "metadata": {},
   "outputs": [],
   "source": [
    "def classifier_1(optimizer='adam', loss='binary_crossentropy', metrix='accuracy'):\n",
    "    #cnn\n",
    "    cnn_inputs = Input(shape=(height, width, 1), name='cnn_inputs')\n",
    "    layers = BatchNormalization()(cnn_inputs)\n",
    "    layers = Conv2D(32, (3,3), activation=\"relu\")(layers)\n",
    "    layers = MaxPooling2D(2,2)(layers)\n",
    "    layers = Conv2D(32, (3,3), activation='relu')(layers)\n",
    "    layers = BatchNormalization()(layers)\n",
    "    layers = MaxPooling2D(2,2)(layers)\n",
    "    layers = Flatten()(layers)\n",
    "    layers = Dropout(0.3)(layers)\n",
    "    layers = Dense(32, activation='relu')(layers)\n",
    "    \n",
    "    #lstm\n",
    "    lstm_inputs = Input(shape=(steps, 24), name='lstm_inputs')\n",
    "    lstm_layers = LSTM(16, return_sequences=True)(lstm_inputs)\n",
    "    lstm_layers = LSTM(16)(lstm_layers)\n",
    "    lstm_layers = Dense(24, activation='relu')(lstm_layers)\n",
    "    \n",
    "    #main route\n",
    "    main_ = concatenate([lstm_layers, layers])\n",
    "    main_ = BatchNormalization()(main_)\n",
    "    main_ = Dense(64, activation='relu')(main_)\n",
    "    output = Dense(24, activation='sigmoid')(main_)\n",
    "    \n",
    "    model = Model(inputs=[lstm_inputs, cnn_inputs], outputs=[output])\n",
    "    model.compile(optimizer=optimizer, loss=loss, metrics=[metrix])\n",
    "    return model"
   ]
  },
  {
   "cell_type": "code",
   "execution_count": 8,
   "metadata": {},
   "outputs": [],
   "source": [
    "def classifier_3(optimizer='adam', loss='binary_crossentropy', metrix='accuracy'):\n",
    "    #cnn\n",
    "    cnn_inputs = Input(shape=(height, width, 1), name='cnn_inputs')\n",
    "    layers = Conv2D(64, (3,3), padding=\"same\", activation=\"relu\")(cnn_inputs)\n",
    "    layers = BatchNormalization()(layers)\n",
    "    layers = MaxPooling2D(2,2)(layers)\n",
    "    layers = Flatten()(layers)\n",
    "    layers = Dropout(0.3)(layers)\n",
    "    layers = Dense(32, activation='relu')(layers)\n",
    "    \n",
    "    #lstm\n",
    "    lstm_inputs = Input(shape=(steps, 24), name='lstm_inputs')\n",
    "    lstm_layers = LSTM(16, return_sequences=True)(lstm_inputs)\n",
    "    lstm_layers = LSTM(16)(lstm_layers)\n",
    "    lstm_layers = Dense(24, activation='relu')(lstm_layers)\n",
    "    \n",
    "    #main route\n",
    "    main_ = concatenate([lstm_layers, layers])\n",
    "    main_ = BatchNormalization()(main_)\n",
    "    main_ = Dense(64, activation='relu')(main_)\n",
    "    output = Dense(24, activation='sigmoid')(main_)\n",
    "    \n",
    "    model = Model(inputs=[lstm_inputs, cnn_inputs], outputs=[output])\n",
    "    model.compile(optimizer=optimizer, loss=loss, metrics=[metrix])\n",
    "    return model"
   ]
  },
  {
   "cell_type": "code",
   "execution_count": 7,
   "metadata": {},
   "outputs": [],
   "source": [
    "train_order = []\n",
    "test_order = []\n",
    "length = np.arange(num_samples)\n",
    "\n",
    "for x, y in kf.split(range(num_samples)):\n",
    "    train_order.append(length[x])\n",
    "    test_order.append(length[y])\n",
    "train_order = np.array(train_order)\n",
    "test_order = np.array(test_order)"
   ]
  },
  {
   "cell_type": "code",
   "execution_count": 8,
   "metadata": {},
   "outputs": [],
   "source": [
    "def inputs_to_model(spectrum_list, labels_list, order, num, start, ending):\n",
    "    lstm_output = []\n",
    "    cnn_output = []\n",
    "    y_train = []\n",
    "    \n",
    "    import time\n",
    "    start_ = time.time()\n",
    "\n",
    "    for file in order[num][start:ending]:\n",
    "        spectrum = np.load(spectrum_list[file])\n",
    "        labels = np.load(labels_list[file])\n",
    "        gap = spectrum.shape[1] // labels.shape[0]\n",
    "        \n",
    "        _lstm = np.zeros((20, 24))\n",
    "        for count, i in enumerate(labels):\n",
    "            _cnn = spectrum[:, gap*count:108+gap*count]\n",
    "            if _cnn.shape == (height, width):\n",
    "                lstm_output.append(_lstm)\n",
    "                cnn_output.append(_cnn.reshape((height, width, 1)))\n",
    "                y_train.append(i)\n",
    "        \n",
    "            _lstm = _lstm[1:, :]\n",
    "            _lstm = np.append(_lstm, i.reshape((1, 24)), axis=0)\n",
    "        \n",
    "    lstm_inputs = np.array(lstm_output)\n",
    "    cnn_inputs = np.array(cnn_output)\n",
    "    labels_inputs = np.array(y_train)\n",
    "    print(time.time()-start_)\n",
    "    return lstm_inputs, cnn_inputs, labels_inputs"
   ]
  },
  {
   "cell_type": "code",
   "execution_count": 9,
   "metadata": {},
   "outputs": [],
   "source": [
    "def generate_database(glob_spectrogram, glob_label, times=10):\n",
    "    cnn_inputs = []\n",
    "    lstm_inputs = []\n",
    "    labels_inputs = []\n",
    "    for spectrogram_,label_ in zip(glob_spectrogram,glob_label):\n",
    "        spectrogram = np.load(spectrogram_)\n",
    "        label = np.load(label_)\n",
    "        for i in range(times):\n",
    "            cnn_input, lstm_input, target_label = generate_random_cnn_lstm_input_and_target_label(spectrogram, label)\n",
    "            cnn_inputs.append(cnn_input)\n",
    "            lstm_inputs.append(lstm_input)\n",
    "            labels_inputs.append(target_label)\n",
    "    return np.array(cnn_inputs), np.array(lstm_inputs), np.array(labels_inputs)"
   ]
  },
  {
   "cell_type": "code",
   "execution_count": 10,
   "metadata": {},
   "outputs": [],
   "source": [
    "def inputs_to_model_split(spectrum_list, labels_list, order, num, start, ending, times=10):\n",
    "    cnn_inputs, lstm_inputs, labels_inputs = generate_database(spectrum_list[order[num][start:ending]], \n",
    "                                                               labels_list[order[num][start:ending]], times)\n",
    "    cnn_inputs = cnn_inputs.reshape((cnn_inputs.shape[0], 108, 108, 1))\n",
    "    return lstm_inputs, cnn_inputs, labels_inputs"
   ]
  },
  {
   "cell_type": "code",
   "execution_count": 11,
   "metadata": {},
   "outputs": [],
   "source": [
    "lstm_test, cnn_test, labels_test = inputs_to_model_split(spec_list, labe_list, test_order, 0, 0, test_order[0].shape[0]+1, times=20)"
   ]
  },
  {
   "cell_type": "code",
   "execution_count": 12,
   "metadata": {},
   "outputs": [
    {
     "data": {
      "text/plain": [
       "(8340, 20, 24)"
      ]
     },
     "execution_count": 12,
     "metadata": {},
     "output_type": "execute_result"
    }
   ],
   "source": [
    "lstm_test.shape"
   ]
  },
  {
   "cell_type": "code",
   "execution_count": 13,
   "metadata": {},
   "outputs": [
    {
     "data": {
      "text/plain": [
       "(8340, 108, 108, 1)"
      ]
     },
     "execution_count": 13,
     "metadata": {},
     "output_type": "execute_result"
    }
   ],
   "source": [
    "cnn_test.shape"
   ]
  },
  {
   "cell_type": "code",
   "execution_count": 14,
   "metadata": {},
   "outputs": [
    {
     "data": {
      "text/plain": [
       "(8340, 24)"
      ]
     },
     "execution_count": 14,
     "metadata": {},
     "output_type": "execute_result"
    }
   ],
   "source": [
    "labels_test.shape"
   ]
  },
  {
   "cell_type": "code",
   "execution_count": 15,
   "metadata": {},
   "outputs": [],
   "source": [
    "def train_test_whole(classifier, num, name, spectrum_list, labels_list, epochs=100, batchsize=32, times=10):\n",
    "    lstm_inputs, cnn_inputs, labels_inputs = inputs_to_model_split(spectrum_list, labels_list, train_order, \n",
    "                                                             num, 0, train_order[num].shape[0]+1, times)\n",
    "\n",
    "    classifier.fit([lstm_inputs, cnn_inputs], labels_inputs, epochs=epochs, batch_size=batchsize, verbose=1,\n",
    "                  validation_data = ([lstm_test, cnn_test], labels_test))\n",
    "    \n",
    "    classifier.save_weights(name, overwrite=True)   \n",
    "    del classifier\n",
    "    K.clear_session()"
   ]
  },
  {
   "cell_type": "code",
   "execution_count": 16,
   "metadata": {},
   "outputs": [],
   "source": [
    "def train_test_part(classifier, num, name, spectrum_list, labels_list, epochs=100, batchsize=32, split=7):\n",
    "    \n",
    "    num_samples = train_order[num].shape[0]\n",
    "    \n",
    "    for j in range(epochs):\n",
    "        print(\n",
    "           \"\"\"\n",
    "        \n",
    "        THIS IS EPOCH_{}\"\"\".format(j))\n",
    "        for i in range(split):\n",
    "            lstm_inputs, cnn_inputs, labels_inputs = inputs_to_model_split(spectrum_list, labels_list, train_order, \n",
    "                                                                     num, num_samples//split*i, num_samples//split*(i+1))\n",
    "\n",
    "            classifier.fit([lstm_inputs, cnn_inputs], labels_inputs, epochs=1, batch_size=batchsize, verbose=1,\n",
    "                          validation_data = ([lstm_test, cnn_test], labels_test))\n",
    "            gc.collect()\n",
    "    \n",
    "    classifier.save_weights(name, overwrite=True)   \n",
    "    del classifier\n",
    "    K.clear_session()"
   ]
  },
  {
   "cell_type": "code",
   "execution_count": 43,
   "metadata": {},
   "outputs": [
    {
     "name": "stderr",
     "output_type": "stream",
     "text": [
      "c:\\users\\zheng\\anaconda3\\envs\\tensorflow-gpu\\lib\\site-packages\\ipykernel_launcher.py:6: UserWarning: Update your `MaxPooling2D` call to the Keras 2 API: `MaxPooling2D(2, 2, padding=\"same\")`\n",
      "  \n"
     ]
    },
    {
     "name": "stdout",
     "output_type": "stream",
     "text": [
      "Train on 91660 samples, validate on 8340 samples\n",
      "Epoch 1/10\n",
      "91660/91660 [==============================] - 159s 2ms/step - loss: 0.0370 - acc: 0.9876 - val_loss: 0.0246 - val_acc: 0.9917\n",
      "Epoch 2/10\n",
      "91660/91660 [==============================] - 154s 2ms/step - loss: 0.0229 - acc: 0.9920 - val_loss: 0.0227 - val_acc: 0.9925\n",
      "Epoch 3/10\n",
      "91660/91660 [==============================] - 157s 2ms/step - loss: 0.0197 - acc: 0.9930 - val_loss: 0.0246 - val_acc: 0.9923\n",
      "Epoch 4/10\n",
      "91660/91660 [==============================] - 154s 2ms/step - loss: 0.0179 - acc: 0.9935 - val_loss: 0.0210 - val_acc: 0.9931\n",
      "Epoch 5/10\n",
      "91660/91660 [==============================] - 159s 2ms/step - loss: 0.0167 - acc: 0.9939 - val_loss: 0.0216 - val_acc: 0.9924\n",
      "Epoch 6/10\n",
      "91660/91660 [==============================] - 157s 2ms/step - loss: 0.0157 - acc: 0.9941 - val_loss: 0.0198 - val_acc: 0.9931\n",
      "Epoch 7/10\n",
      "91660/91660 [==============================] - 157s 2ms/step - loss: 0.0149 - acc: 0.9944 - val_loss: 0.0195 - val_acc: 0.9934\n",
      "Epoch 8/10\n",
      "91660/91660 [==============================] - 157s 2ms/step - loss: 0.0142 - acc: 0.9947 - val_loss: 0.0218 - val_acc: 0.9928\n",
      "Epoch 9/10\n",
      "91660/91660 [==============================] - 158s 2ms/step - loss: 0.0138 - acc: 0.9947 - val_loss: 0.0193 - val_acc: 0.9930\n",
      "Epoch 10/10\n",
      "91660/91660 [==============================] - 158s 2ms/step - loss: 0.0131 - acc: 0.9950 - val_loss: 0.0248 - val_acc: 0.9923\n"
     ]
    },
    {
     "data": {
      "text/plain": [
       "28194"
      ]
     },
     "execution_count": 43,
     "metadata": {},
     "output_type": "execute_result"
    }
   ],
   "source": [
    "adam = keras.optimizers.Adam(lr=0.005)\n",
    "classifier = classifier_3(optimizer=adam)\n",
    "train_test_whole(classifier, 0, 'weights/weight-24units-model1.hdf5', spec_list, labe_list, epochs=10, times=20)\n",
    "gc.collect()"
   ]
  },
  {
   "cell_type": "code",
   "execution_count": 44,
   "metadata": {},
   "outputs": [
    {
     "name": "stderr",
     "output_type": "stream",
     "text": [
      "c:\\users\\zheng\\anaconda3\\envs\\tensorflow-gpu\\lib\\site-packages\\ipykernel_launcher.py:6: UserWarning: Update your `MaxPooling2D` call to the Keras 2 API: `MaxPooling2D(2, 2, padding=\"same\")`\n",
      "  \n",
      "c:\\users\\zheng\\anaconda3\\envs\\tensorflow-gpu\\lib\\site-packages\\ipykernel_launcher.py:9: UserWarning: Update your `MaxPooling2D` call to the Keras 2 API: `MaxPooling2D(2, 2, padding=\"same\")`\n",
      "  if __name__ == '__main__':\n"
     ]
    },
    {
     "name": "stdout",
     "output_type": "stream",
     "text": [
      "Train on 91660 samples, validate on 8340 samples\n",
      "Epoch 1/10\n",
      "91660/91660 [==============================] - 140s 2ms/step - loss: 0.0377 - acc: 0.9873 - val_loss: 0.0238 - val_acc: 0.9918\n",
      "Epoch 2/10\n",
      "91660/91660 [==============================] - 136s 1ms/step - loss: 0.0228 - acc: 0.9920 - val_loss: 0.0201 - val_acc: 0.9932\n",
      "Epoch 3/10\n",
      "91660/91660 [==============================] - 135s 1ms/step - loss: 0.0193 - acc: 0.9931 - val_loss: 0.0185 - val_acc: 0.9935\n",
      "Epoch 4/10\n",
      "91660/91660 [==============================] - 135s 1ms/step - loss: 0.0171 - acc: 0.9937 - val_loss: 0.0229 - val_acc: 0.9928\n",
      "Epoch 5/10\n",
      "91660/91660 [==============================] - 138s 2ms/step - loss: 0.0158 - acc: 0.9941 - val_loss: 0.0180 - val_acc: 0.9940\n",
      "Epoch 6/10\n",
      "91660/91660 [==============================] - 138s 2ms/step - loss: 0.0146 - acc: 0.9945 - val_loss: 0.0182 - val_acc: 0.9936\n",
      "Epoch 7/10\n",
      "91660/91660 [==============================] - 140s 2ms/step - loss: 0.0137 - acc: 0.9948 - val_loss: 0.0199 - val_acc: 0.9933\n",
      "Epoch 8/10\n",
      "91660/91660 [==============================] - 140s 2ms/step - loss: 0.0127 - acc: 0.9951 - val_loss: 0.0193 - val_acc: 0.9938\n",
      "Epoch 9/10\n",
      "91660/91660 [==============================] - 140s 2ms/step - loss: 0.0122 - acc: 0.9952 - val_loss: 0.0187 - val_acc: 0.9936\n",
      "Epoch 10/10\n",
      "91660/91660 [==============================] - 141s 2ms/step - loss: 0.0116 - acc: 0.9956 - val_loss: 0.0195 - val_acc: 0.9938\n"
     ]
    },
    {
     "data": {
      "text/plain": [
       "23088"
      ]
     },
     "execution_count": 44,
     "metadata": {},
     "output_type": "execute_result"
    }
   ],
   "source": [
    "adam = keras.optimizers.Adam(lr=0.005)\n",
    "classifier = classifier_1(optimizer=adam)\n",
    "train_test_whole(classifier, 0, 'weights/weight-24units-model2.hdf5', spec_list, labe_list, epochs=10, times=20)\n",
    "gc.collect()"
   ]
  },
  {
   "cell_type": "code",
   "execution_count": 19,
   "metadata": {},
   "outputs": [],
   "source": [
    "def classifier_2(optimizer='adam', loss='binary_crossentropy', metrix='accuracy'):\n",
    "    #cnn\n",
    "    cnn_inputs = Input(shape=(height, width, 1), name='cnn_inputs')\n",
    "    layers = BatchNormalization()(cnn_inputs)\n",
    "    layers = Conv2D(32, (3,3), activation=\"relu\")(layers)\n",
    "    layers = Conv2D(32, (3,3), activation=\"relu\")(layers)\n",
    "    layers = MaxPooling2D(2,2)(layers)\n",
    "    layers = Conv2D(64, (3,3), activation='relu')(layers)\n",
    "    layers = Conv2D(64, (3,3), activation='relu')(layers)\n",
    "    layers = BatchNormalization()(layers)\n",
    "    layers = MaxPooling2D(2,2)(layers)\n",
    "    layers = Flatten()(layers)\n",
    "    layers = Dropout(0.3)(layers)\n",
    "    layers = Dense(32, activation='relu')(layers)\n",
    "    \n",
    "    #lstm\n",
    "    lstm_inputs = Input(shape=(steps, 24), name='lstm_inputs')\n",
    "    lstm_layers = LSTM(16, return_sequences=True)(lstm_inputs)\n",
    "    lstm_layers = LSTM(16)(lstm_layers)\n",
    "    lstm_layers = Dense(24, activation='relu')(lstm_layers)\n",
    "    \n",
    "    #main route\n",
    "    main_ = concatenate([lstm_layers, layers])\n",
    "    main_ = BatchNormalization()(main_)\n",
    "    main_ = Dense(64, activation='relu')(main_)\n",
    "    output = Dense(24, activation='sigmoid')(main_)\n",
    "    \n",
    "    model = Model(inputs=[lstm_inputs, cnn_inputs], outputs=[output])\n",
    "    model.compile(optimizer=optimizer, loss=loss, metrics=[metrix])\n",
    "    return model"
   ]
  },
  {
   "cell_type": "code",
   "execution_count": 20,
   "metadata": {},
   "outputs": [
    {
     "name": "stdout",
     "output_type": "stream",
     "text": [
      "Train on 91660 samples, validate on 8340 samples\n",
      "Epoch 1/10\n",
      "91660/91660 [==============================] - 170s 2ms/step - loss: 0.0369 - acc: 0.9877 - val_loss: 0.0277 - val_acc: 0.9909\n",
      "Epoch 2/10\n",
      "91660/91660 [==============================] - 171s 2ms/step - loss: 0.0218 - acc: 0.9922 - val_loss: 0.0225 - val_acc: 0.9921\n",
      "Epoch 3/10\n",
      "91660/91660 [==============================] - 170s 2ms/step - loss: 0.0186 - acc: 0.9932 - val_loss: 0.0174 - val_acc: 0.9938\n",
      "Epoch 4/10\n",
      "91660/91660 [==============================] - 172s 2ms/step - loss: 0.0163 - acc: 0.9939 - val_loss: 0.0170 - val_acc: 0.9940\n",
      "Epoch 5/10\n",
      "91660/91660 [==============================] - 169s 2ms/step - loss: 0.0149 - acc: 0.9943 - val_loss: 0.0175 - val_acc: 0.9940\n",
      "Epoch 6/10\n",
      "91660/91660 [==============================] - 168s 2ms/step - loss: 0.0136 - acc: 0.9947 - val_loss: 0.0165 - val_acc: 0.9941\n",
      "Epoch 7/10\n",
      "91660/91660 [==============================] - 169s 2ms/step - loss: 0.0125 - acc: 0.9951 - val_loss: 0.0173 - val_acc: 0.9939\n",
      "Epoch 8/10\n",
      "91660/91660 [==============================] - 169s 2ms/step - loss: 0.0118 - acc: 0.9954 - val_loss: 0.0166 - val_acc: 0.9943\n",
      "Epoch 9/10\n",
      "91660/91660 [==============================] - 168s 2ms/step - loss: 0.0111 - acc: 0.9956 - val_loss: 0.0171 - val_acc: 0.9940\n",
      "Epoch 10/10\n",
      "91660/91660 [==============================] - 170s 2ms/step - loss: 0.0104 - acc: 0.9959 - val_loss: 0.0186 - val_acc: 0.9942\n"
     ]
    },
    {
     "data": {
      "text/plain": [
       "28638"
      ]
     },
     "execution_count": 20,
     "metadata": {},
     "output_type": "execute_result"
    }
   ],
   "source": [
    "adam = keras.optimizers.Adam(lr=0.005)\n",
    "classifier = classifier_2(optimizer=adam)\n",
    "train_test_whole(classifier, 0, 'weights/weight-24units-model-nopadding.hdf5', spec_list, labe_list, epochs=10, times=20)\n",
    "gc.collect()"
   ]
  },
  {
   "cell_type": "code",
   "execution_count": 22,
   "metadata": {},
   "outputs": [
    {
     "name": "stdout",
     "output_type": "stream",
     "text": [
      "Train on 91660 samples, validate on 8340 samples\n",
      "Epoch 1/10\n",
      "91660/91660 [==============================] - 162s 2ms/step - loss: 0.0393 - acc: 0.9868 - val_loss: 0.0421 - val_acc: 0.9886\n",
      "Epoch 2/10\n",
      "91660/91660 [==============================] - 157s 2ms/step - loss: 0.0249 - acc: 0.9911 - val_loss: 0.0244 - val_acc: 0.9918\n",
      "Epoch 3/10\n",
      "91660/91660 [==============================] - 158s 2ms/step - loss: 0.0210 - acc: 0.9925 - val_loss: 0.0250 - val_acc: 0.9918\n",
      "Epoch 4/10\n",
      "91660/91660 [==============================] - 158s 2ms/step - loss: 0.0187 - acc: 0.9932 - val_loss: 0.0222 - val_acc: 0.9927\n",
      "Epoch 5/10\n",
      "91660/91660 [==============================] - 157s 2ms/step - loss: 0.0174 - acc: 0.9935 - val_loss: 0.0220 - val_acc: 0.9929\n",
      "Epoch 6/10\n",
      "91660/91660 [==============================] - 157s 2ms/step - loss: 0.0162 - acc: 0.9939 - val_loss: 0.0178 - val_acc: 0.9937\n",
      "Epoch 7/10\n",
      "91660/91660 [==============================] - 157s 2ms/step - loss: 0.0152 - acc: 0.9943 - val_loss: 0.0202 - val_acc: 0.9928\n",
      "Epoch 8/10\n",
      "91660/91660 [==============================] - 156s 2ms/step - loss: 0.0146 - acc: 0.9944 - val_loss: 0.0183 - val_acc: 0.9937\n",
      "Epoch 9/10\n",
      "91660/91660 [==============================] - 156s 2ms/step - loss: 0.0139 - acc: 0.9947 - val_loss: 0.0185 - val_acc: 0.9936\n",
      "Epoch 10/10\n",
      "91660/91660 [==============================] - 156s 2ms/step - loss: 0.0131 - acc: 0.9950 - val_loss: 0.0707 - val_acc: 0.9868\n"
     ]
    },
    {
     "data": {
      "text/plain": [
       "39516"
      ]
     },
     "execution_count": 22,
     "metadata": {},
     "output_type": "execute_result"
    }
   ],
   "source": [
    "adam = keras.optimizers.Adam(lr=0.01)\n",
    "classifier = classifier_2(optimizer=adam)\n",
    "train_test_whole(classifier, 0, 'weights/weight-24units-model2-enopadding.hdf5', spec_list, labe_list, epochs=10, times=20)\n",
    "gc.collect()"
   ]
  },
  {
   "cell_type": "code",
   "execution_count": 23,
   "metadata": {},
   "outputs": [],
   "source": [
    "def classifier_4(optimizer='adam', loss='binary_crossentropy', metrix='accuracy'):\n",
    "    #cnn\n",
    "    cnn_inputs = Input(shape=(height, width, 1), name='cnn_inputs')\n",
    "    layers = BatchNormalization()(cnn_inputs)\n",
    "    layers = Conv2D(32, (3,3), activation=\"relu\")(layers)\n",
    "    layers = Conv2D(32, (3,3), activation=\"relu\")(layers)\n",
    "    layers = MaxPooling2D(2,2)(layers)\n",
    "    layers = Conv2D(64, (3,3), activation='relu')(layers)\n",
    "    layers = Conv2D(64, (3,3), activation='relu')(layers)\n",
    "    layers = BatchNormalization()(layers)\n",
    "    layers = MaxPooling2D(2,2)(layers)\n",
    "    layers = Conv2D(128, (3,3), activation='relu')(layers)\n",
    "    layers = Conv2D(128, (3,3), activation='relu')(layers)\n",
    "    layers = BatchNormalization()(layers)\n",
    "    layers = MaxPooling2D(2,2)(layers)\n",
    "    layers = Flatten()(layers)\n",
    "    layers = Dropout(0.3)(layers)\n",
    "    layers = Dense(32, activation='relu')(layers)\n",
    "    \n",
    "    #lstm\n",
    "    lstm_inputs = Input(shape=(steps, 24), name='lstm_inputs')\n",
    "    lstm_layers = LSTM(16, return_sequences=True)(lstm_inputs)\n",
    "    lstm_layers = LSTM(16)(lstm_layers)\n",
    "    lstm_layers = Dense(24, activation='relu')(lstm_layers)\n",
    "    \n",
    "    #main route\n",
    "    main_ = concatenate([lstm_layers, layers])\n",
    "    main_ = BatchNormalization()(main_)\n",
    "    main_ = Dense(64, activation='relu')(main_)\n",
    "    output = Dense(24, activation='sigmoid')(main_)\n",
    "    \n",
    "    model = Model(inputs=[lstm_inputs, cnn_inputs], outputs=[output])\n",
    "    model.compile(optimizer=optimizer, loss=loss, metrics=[metrix])\n",
    "    return model"
   ]
  },
  {
   "cell_type": "code",
   "execution_count": 28,
   "metadata": {},
   "outputs": [],
   "source": [
    "def classifier_5(optimizer='adam', loss='binary_crossentropy', metrix='accuracy'):\n",
    "    #cnn\n",
    "    cnn_inputs = Input(shape=(height, width, 1), name='cnn_inputs')\n",
    "    layers = BatchNormalization()(cnn_inputs)\n",
    "    layers = Conv2D(32, (3,3), activation=\"relu\")(layers)\n",
    "    layers = Conv2D(32, (3,3), activation=\"relu\")(layers)\n",
    "    layers = MaxPooling2D(2,2)(layers)\n",
    "    layers = Conv2D(64, (3,3), activation='relu')(layers)\n",
    "    layers = Conv2D(64, (3,3), activation='relu')(layers)\n",
    "    layers = BatchNormalization()(layers)\n",
    "    layers = MaxPooling2D(2,2)(layers)\n",
    "    layers = Conv2D(128, (3,3), activation='relu')(layers)\n",
    "    layers = Conv2D(128, (3,3), activation='relu')(layers)\n",
    "    layers = BatchNormalization()(layers)\n",
    "    layers = Conv2D(256, (1,1), activation='relu')(layers)\n",
    "    layers = Flatten()(layers)\n",
    "    layers = Dropout(0.3)(layers)\n",
    "    layers = Dense(32, activation='relu')(layers)\n",
    "    \n",
    "    #lstm\n",
    "    lstm_inputs = Input(shape=(steps, 24), name='lstm_inputs')\n",
    "    lstm_layers = LSTM(16, return_sequences=True)(lstm_inputs)\n",
    "    lstm_layers = LSTM(16)(lstm_layers)\n",
    "    lstm_layers = Dense(24, activation='relu')(lstm_layers)\n",
    "    \n",
    "    #main route\n",
    "    main_ = concatenate([lstm_layers, layers])\n",
    "    main_ = BatchNormalization()(main_)\n",
    "    main_ = Dense(64, activation='relu')(main_)\n",
    "    output = Dense(24, activation='sigmoid')(main_)\n",
    "    \n",
    "    model = Model(inputs=[lstm_inputs, cnn_inputs], outputs=[output])\n",
    "    model.compile(optimizer=optimizer, loss=loss, metrics=[metrix])\n",
    "    return model"
   ]
  },
  {
   "cell_type": "code",
   "execution_count": 30,
   "metadata": {},
   "outputs": [
    {
     "name": "stdout",
     "output_type": "stream",
     "text": [
      "Train on 91660 samples, validate on 8340 samples\n",
      "Epoch 1/20\n",
      "91660/91660 [==============================] - 191s 2ms/step - loss: 0.0427 - acc: 0.9857 - val_loss: 0.1239 - val_acc: 0.9834\n",
      "Epoch 2/20\n",
      "91660/91660 [==============================] - 183s 2ms/step - loss: 0.0248 - acc: 0.9910 - val_loss: 0.0300 - val_acc: 0.9902\n",
      "Epoch 3/20\n",
      "91660/91660 [==============================] - 183s 2ms/step - loss: 0.0208 - acc: 0.9924 - val_loss: 0.0191 - val_acc: 0.9933\n",
      "Epoch 4/20\n",
      "91660/91660 [==============================] - 180s 2ms/step - loss: 0.0186 - acc: 0.9931 - val_loss: 0.0286 - val_acc: 0.9902\n",
      "Epoch 5/20\n",
      "91660/91660 [==============================] - 180s 2ms/step - loss: 0.0170 - acc: 0.9936 - val_loss: 0.0176 - val_acc: 0.9938\n",
      "Epoch 6/20\n",
      "91660/91660 [==============================] - 180s 2ms/step - loss: 0.0157 - acc: 0.9940 - val_loss: 0.0172 - val_acc: 0.9939\n",
      "Epoch 7/20\n",
      "91660/91660 [==============================] - 180s 2ms/step - loss: 0.0145 - acc: 0.9944 - val_loss: 0.0169 - val_acc: 0.9941\n",
      "Epoch 8/20\n",
      "91660/91660 [==============================] - 180s 2ms/step - loss: 0.0134 - acc: 0.9948 - val_loss: 0.0174 - val_acc: 0.9937\n",
      "Epoch 9/20\n",
      "91660/91660 [==============================] - 178s 2ms/step - loss: 0.0125 - acc: 0.9951 - val_loss: 0.0169 - val_acc: 0.9940\n",
      "Epoch 10/20\n",
      "91660/91660 [==============================] - 178s 2ms/step - loss: 0.0116 - acc: 0.9954 - val_loss: 0.0178 - val_acc: 0.9939\n",
      "Epoch 11/20\n",
      "91660/91660 [==============================] - 181s 2ms/step - loss: 0.0108 - acc: 0.9958 - val_loss: 0.0185 - val_acc: 0.9939\n",
      "Epoch 12/20\n",
      "91660/91660 [==============================] - 178s 2ms/step - loss: 0.0101 - acc: 0.9960 - val_loss: 0.0195 - val_acc: 0.9938\n",
      "Epoch 13/20\n",
      "91660/91660 [==============================] - 184s 2ms/step - loss: 0.0094 - acc: 0.9963 - val_loss: 0.0188 - val_acc: 0.9938\n",
      "Epoch 14/20\n",
      "91660/91660 [==============================] - 186s 2ms/step - loss: 0.0088 - acc: 0.9966 - val_loss: 0.0190 - val_acc: 0.9937\n",
      "Epoch 15/20\n",
      "91660/91660 [==============================] - 182s 2ms/step - loss: 0.0082 - acc: 0.9968 - val_loss: 0.0212 - val_acc: 0.9936\n",
      "Epoch 16/20\n",
      "91660/91660 [==============================] - 183s 2ms/step - loss: 0.0077 - acc: 0.9970 - val_loss: 0.0270 - val_acc: 0.9930\n",
      "Epoch 17/20\n",
      "91660/91660 [==============================] - 184s 2ms/step - loss: 0.0073 - acc: 0.9972 - val_loss: 0.8226 - val_acc: 0.9324\n",
      "Epoch 18/20\n",
      "91660/91660 [==============================] - 186s 2ms/step - loss: 0.0067 - acc: 0.9975 - val_loss: 0.0246 - val_acc: 0.9939\n",
      "Epoch 19/20\n",
      "91660/91660 [==============================] - 186s 2ms/step - loss: 0.0063 - acc: 0.9976 - val_loss: 0.0239 - val_acc: 0.9934\n",
      "Epoch 20/20\n",
      "91660/91660 [==============================] - 187s 2ms/step - loss: 0.0059 - acc: 0.9978 - val_loss: 0.0248 - val_acc: 0.9937\n"
     ]
    },
    {
     "data": {
      "text/plain": [
       "34854"
      ]
     },
     "execution_count": 30,
     "metadata": {},
     "output_type": "execute_result"
    }
   ],
   "source": [
    "adam = keras.optimizers.Adam(lr=0.005)\n",
    "classifier = classifier_5(optimizer=adam)\n",
    "train_test_whole(classifier, 0, 'weights/weight-24units-model4-enopadding.hdf5', spec_list, labe_list, epochs=20, times=20)\n",
    "gc.collect()"
   ]
  },
  {
   "cell_type": "code",
   "execution_count": 24,
   "metadata": {},
   "outputs": [
    {
     "name": "stdout",
     "output_type": "stream",
     "text": [
      "Train on 91660 samples, validate on 8340 samples\n",
      "Epoch 1/10\n",
      "91660/91660 [==============================] - 169s 2ms/step - loss: 0.0456 - acc: 0.9844 - val_loss: 0.0396 - val_acc: 0.9857\n",
      "Epoch 2/10\n",
      "91660/91660 [==============================] - 167s 2ms/step - loss: 0.0300 - acc: 0.9889 - val_loss: 0.0260 - val_acc: 0.9907\n",
      "Epoch 3/10\n",
      "91660/91660 [==============================] - 167s 2ms/step - loss: 0.0241 - acc: 0.9911 - val_loss: 0.0218 - val_acc: 0.9921\n",
      "Epoch 4/10\n",
      "91660/91660 [==============================] - 167s 2ms/step - loss: 0.0211 - acc: 0.9923 - val_loss: 0.0213 - val_acc: 0.9923\n",
      "Epoch 5/10\n",
      "91660/91660 [==============================] - 167s 2ms/step - loss: 0.0190 - acc: 0.9929 - val_loss: 0.0178 - val_acc: 0.9933\n",
      "Epoch 6/10\n",
      "91660/91660 [==============================] - 167s 2ms/step - loss: 0.0175 - acc: 0.9934 - val_loss: 0.0177 - val_acc: 0.9933\n",
      "Epoch 7/10\n",
      "91660/91660 [==============================] - 167s 2ms/step - loss: 0.0165 - acc: 0.9937 - val_loss: 0.0535 - val_acc: 0.9869\n",
      "Epoch 8/10\n",
      "91660/91660 [==============================] - 167s 2ms/step - loss: 0.0157 - acc: 0.9939 - val_loss: 0.0175 - val_acc: 0.9937\n",
      "Epoch 9/10\n",
      "91660/91660 [==============================] - 167s 2ms/step - loss: 0.0149 - acc: 0.9943 - val_loss: 0.0171 - val_acc: 0.9937\n",
      "Epoch 10/10\n",
      "91660/91660 [==============================] - 167s 2ms/step - loss: 0.0142 - acc: 0.9945 - val_loss: 0.0176 - val_acc: 0.9938\n"
     ]
    },
    {
     "data": {
      "text/plain": [
       "31524"
      ]
     },
     "execution_count": 24,
     "metadata": {},
     "output_type": "execute_result"
    }
   ],
   "source": [
    "adam = keras.optimizers.Adam(lr=0.005)\n",
    "classifier = classifier_4(optimizer=adam)\n",
    "train_test_whole(classifier, 0, 'weights/weight-24units-model3-enopadding.hdf5', spec_list, labe_list, epochs=10, times=20)\n",
    "gc.collect()"
   ]
  }
 ],
 "metadata": {
  "kernelspec": {
   "display_name": "Python 3",
   "language": "python",
   "name": "python3"
  },
  "language_info": {
   "codemirror_mode": {
    "name": "ipython",
    "version": 3
   },
   "file_extension": ".py",
   "mimetype": "text/x-python",
   "name": "python",
   "nbconvert_exporter": "python",
   "pygments_lexer": "ipython3",
   "version": "3.5.2"
  }
 },
 "nbformat": 4,
 "nbformat_minor": 2
}
