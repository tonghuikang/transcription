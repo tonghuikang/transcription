{
 "cells": [
  {
   "cell_type": "code",
   "execution_count": 1,
   "metadata": {},
   "outputs": [
    {
     "name": "stderr",
     "output_type": "stream",
     "text": [
      "/anaconda3/envs/nd/lib/python3.6/importlib/_bootstrap.py:219: RuntimeWarning: numpy.dtype size changed, may indicate binary incompatibility. Expected 96, got 88\n",
      "  return f(*args, **kwds)\n",
      "/anaconda3/envs/nd/lib/python3.6/importlib/_bootstrap.py:219: RuntimeWarning: numpy.dtype size changed, may indicate binary incompatibility. Expected 96, got 88\n",
      "  return f(*args, **kwds)\n",
      "/anaconda3/envs/nd/lib/python3.6/site-packages/h5py/__init__.py:34: FutureWarning: Conversion of the second argument of issubdtype from `float` to `np.floating` is deprecated. In future, it will be treated as `np.float64 == np.dtype(float).type`.\n",
      "  from ._conv import register_converters as _register_converters\n",
      "Using TensorFlow backend.\n"
     ]
    },
    {
     "name": "stdout",
     "output_type": "stream",
     "text": [
      "[[0. 0. 0. 0. 0. 0. 0. 0. 0. 0. 0. 0. 0. 0. 0. 0. 0. 0. 0. 0. 0. 0. 0. 0.]]\n"
     ]
    }
   ],
   "source": [
    "%run model.ipynb"
   ]
  },
  {
   "cell_type": "code",
   "execution_count": 2,
   "metadata": {},
   "outputs": [],
   "source": [
    "import sys\n",
    "sys.path.append('../preparations/')"
   ]
  },
  {
   "cell_type": "code",
   "execution_count": 3,
   "metadata": {},
   "outputs": [],
   "source": [
    "# import x01_generate_notes\n",
    "import x02_generate_midi\n",
    "import x03_generate_wav\n",
    "import x04_generate_wav_processed\n",
    "import x05_generate_spectrogram\n",
    "import x06_generate_label"
   ]
  },
  {
   "cell_type": "markdown",
   "metadata": {},
   "source": [
    "# If you are doing this from the cloud\n",
    "Unlikely you are able to install fluidsynth <BR>\n",
    "Please skip the following and proceed to the 16th cell."
   ]
  },
  {
   "cell_type": "code",
   "execution_count": 4,
   "metadata": {},
   "outputs": [
    {
     "name": "stdout",
     "output_type": "stream",
     "text": [
      "mkdir: notes: File exists\n",
      "mkdir: midi: File exists\n",
      "mkdir: wav: File exists\n",
      "mkdir: wav_processed: File exists\n",
      "mkdir: spectrogram: File exists\n",
      "mkdir: label: File exists\n"
     ]
    }
   ],
   "source": [
    "!mkdir notes\n",
    "!mkdir midi\n",
    "!mkdir wav\n",
    "!mkdir wav_processed\n",
    "!mkdir spectrogram\n",
    "!mkdir label\n",
    "!rm ./notes/*\n",
    "!rm ./midi/*\n",
    "!rm ./wav/*\n",
    "!rm ./wav_processed/*\n",
    "!rm ./spectrogram/*\n",
    "!rm ./label/*"
   ]
  },
  {
   "cell_type": "code",
   "execution_count": 5,
   "metadata": {},
   "outputs": [],
   "source": [
    "import numpy as np\n",
    "import random\n",
    "\n",
    "# this generates what time play what note and saves it to ./notes/\n",
    "\n",
    "def generate_note_file():\n",
    "    # could be summarised\n",
    "    sound_id = ''.join(random.choice('0123456789ABCDEF') for i in range(16))\n",
    "    \n",
    "    # t = 2 means the 1st second, since the tempo is 120bpm.\n",
    "    # this model does not assume any periodicity in transcription\n",
    "    t = 0.1\n",
    "    note_time_array = []\n",
    "    \n",
    "    chord_holder = []\n",
    "    \n",
    "    while t < 12:\n",
    "        t += 0.25 + np.random.uniform(0,1.1)**5\n",
    "        \n",
    "        notes_in_this_chord = []\n",
    "        \n",
    "        if len(chord_holder) and np.random.uniform() > 0.75:\n",
    "            notes_in_this_chord = chord_holder\n",
    "            if np.random.uniform() < 1/len(chord_holder)**4:\n",
    "                new_note = np.random.randint(24)\n",
    "                if new_note not in notes_in_this_chord:\n",
    "                    notes_in_this_chord.append(new_note)\n",
    "        \n",
    "        elif np.random.uniform() > 0.9:\n",
    "            # generate one note\n",
    "            new_note = np.random.randint(24)\n",
    "            \n",
    "        elif np.random.uniform() > 0.4 or t > 18:\n",
    "            # random generation\n",
    "            \n",
    "            if np.random.uniform() > 0.2:\n",
    "                new_note = np.random.randint(24)\n",
    "                if new_note not in notes_in_this_chord:\n",
    "                    notes_in_this_chord.append(new_note)\n",
    "\n",
    "            if np.random.uniform() > 0.2:\n",
    "                new_note = np.random.randint(24)\n",
    "                if new_note not in notes_in_this_chord:\n",
    "                    notes_in_this_chord.append(new_note)\n",
    "\n",
    "            if np.random.uniform() > 0.3:\n",
    "                new_note = np.random.randint(24)\n",
    "                if new_note not in notes_in_this_chord:\n",
    "                    notes_in_this_chord.append(new_note)\n",
    "\n",
    "            if np.random.uniform() > 0.3:\n",
    "                new_note = np.random.randint(24)\n",
    "                if new_note not in notes_in_this_chord:\n",
    "                    notes_in_this_chord.append(new_note)\n",
    "                \n",
    "        else:\n",
    "            # favouring usual chords\n",
    "            new_note = np.random.randint(24)\n",
    "            notes_in_this_chord.append(new_note)\n",
    "            \n",
    "            if np.random.uniform() > 0.8:\n",
    "                new_note = np.random.randint(24-7)\n",
    "                notes_in_this_chord.append(new_note)\n",
    "                notes_in_this_chord.append(new_note+3)\n",
    "                notes_in_this_chord.append(new_note+7)\n",
    "                \n",
    "            elif np.random.uniform() > 0.8:\n",
    "                new_note = np.random.randint(24-7)\n",
    "                notes_in_this_chord.append(new_note)\n",
    "                notes_in_this_chord.append(new_note+4)\n",
    "                notes_in_this_chord.append(new_note+7)\n",
    "                \n",
    "            elif np.random.uniform() > 0.9:\n",
    "                new_note = np.random.randint(24-7)\n",
    "                notes_in_this_chord.append(new_note)\n",
    "                notes_in_this_chord.append(new_note+3)\n",
    "                notes_in_this_chord.append(new_note+6)\n",
    "                \n",
    "            elif np.random.uniform() > 0.9:\n",
    "                new_note = np.random.randint(24-8)\n",
    "                notes_in_this_chord.append(new_note)\n",
    "                notes_in_this_chord.append(new_note+4)\n",
    "                notes_in_this_chord.append(new_note+8)\n",
    "                \n",
    "            elif np.random.uniform() > 0.95:\n",
    "                new_note = np.random.randint(24-12)\n",
    "                notes_in_this_chord.append(new_note)\n",
    "                notes_in_this_chord.append(new_note+3)\n",
    "                notes_in_this_chord.append(new_note+7)\n",
    "                notes_in_this_chord.append(new_note+7)\n",
    "                \n",
    "            elif np.random.uniform() > 0.95:\n",
    "                new_note = np.random.randint(24-12)\n",
    "                notes_in_this_chord.append(new_note)\n",
    "                notes_in_this_chord.append(new_note+4)\n",
    "                notes_in_this_chord.append(new_note+7)\n",
    "                notes_in_this_chord.append(new_note+12)\n",
    "                \n",
    "            elif np.random.uniform() > 0.95:\n",
    "                new_note = np.random.randint(24-12)\n",
    "                notes_in_this_chord.append(new_note)\n",
    "                notes_in_this_chord.append(new_note+3)\n",
    "                notes_in_this_chord.append(new_note+6)\n",
    "                notes_in_this_chord.append(new_note+12)\n",
    "                \n",
    "            elif np.random.uniform() > 0.95:\n",
    "                new_note = np.random.randint(24-12)\n",
    "                notes_in_this_chord.append(new_note)\n",
    "                notes_in_this_chord.append(new_note+4)\n",
    "                notes_in_this_chord.append(new_note+8)\n",
    "                notes_in_this_chord.append(new_note+12)\n",
    "                \n",
    "            else:\n",
    "                # generate one note\n",
    "                new_note = np.random.randint(24)\n",
    "                \n",
    "        chord_holder = notes_in_this_chord\n",
    "        for note in notes_in_this_chord:\n",
    "            note_time_array.append([t, note])\n",
    "            print(t)\n",
    "            print(notes_in_this_chord)\n",
    "                \n",
    "#     print(note_time_array)\n",
    "    print(np.shape(note_time_array))\n",
    "    np.save(\"./notes/\" + sound_id, np.array(note_time_array))"
   ]
  },
  {
   "cell_type": "code",
   "execution_count": 6,
   "metadata": {
    "scrolled": false
   },
   "outputs": [
    {
     "name": "stdout",
     "output_type": "stream",
     "text": [
      "0.350016655619263\n",
      "[22]\n",
      "1.439475433367434\n",
      "[1]\n",
      "1.916298689928278\n",
      "[17, 6]\n",
      "1.916298689928278\n",
      "[17, 6]\n",
      "2.272477663636422\n",
      "[18, 20, 9]\n",
      "2.272477663636422\n",
      "[18, 20, 9]\n",
      "2.272477663636422\n",
      "[18, 20, 9]\n",
      "3.643421595385677\n",
      "[8, 23, 0]\n",
      "3.643421595385677\n",
      "[8, 23, 0]\n",
      "3.643421595385677\n",
      "[8, 23, 0]\n",
      "4.250293686952062\n",
      "[2]\n",
      "5.036425871201875\n",
      "[5]\n",
      "5.408846095507426\n",
      "[10, 21, 4]\n",
      "5.408846095507426\n",
      "[10, 21, 4]\n",
      "5.408846095507426\n",
      "[10, 21, 4]\n",
      "6.609233535278615\n",
      "[22, 9, 13, 16, 21]\n",
      "6.609233535278615\n",
      "[22, 9, 13, 16, 21]\n",
      "6.609233535278615\n",
      "[22, 9, 13, 16, 21]\n",
      "6.609233535278615\n",
      "[22, 9, 13, 16, 21]\n",
      "6.609233535278615\n",
      "[22, 9, 13, 16, 21]\n",
      "6.8797138324114355\n",
      "[22, 9, 13, 16, 21]\n",
      "6.8797138324114355\n",
      "[22, 9, 13, 16, 21]\n",
      "6.8797138324114355\n",
      "[22, 9, 13, 16, 21]\n",
      "6.8797138324114355\n",
      "[22, 9, 13, 16, 21]\n",
      "6.8797138324114355\n",
      "[22, 9, 13, 16, 21]\n",
      "7.218395078206724\n",
      "[5, 1, 5, 8]\n",
      "7.218395078206724\n",
      "[5, 1, 5, 8]\n",
      "7.218395078206724\n",
      "[5, 1, 5, 8]\n",
      "7.218395078206724\n",
      "[5, 1, 5, 8]\n",
      "7.479464052492162\n",
      "[19, 15]\n",
      "7.479464052492162\n",
      "[19, 15]\n",
      "7.729467178048803\n",
      "[13, 3]\n",
      "7.729467178048803\n",
      "[13, 3]\n",
      "8.000646739889833\n",
      "[6, 8, 11, 15]\n",
      "8.000646739889833\n",
      "[6, 8, 11, 15]\n",
      "8.000646739889833\n",
      "[6, 8, 11, 15]\n",
      "8.000646739889833\n",
      "[6, 8, 11, 15]\n",
      "8.250776110759217\n",
      "[12, 6]\n",
      "8.250776110759217\n",
      "[12, 6]\n",
      "9.476411142397733\n",
      "[23, 1]\n",
      "9.476411142397733\n",
      "[23, 1]\n",
      "9.809062864901342\n",
      "[23, 1]\n",
      "9.809062864901342\n",
      "[23, 1]\n",
      "10.137988070520004\n",
      "[10, 6, 16, 13]\n",
      "10.137988070520004\n",
      "[10, 6, 16, 13]\n",
      "10.137988070520004\n",
      "[10, 6, 16, 13]\n",
      "10.137988070520004\n",
      "[10, 6, 16, 13]\n",
      "10.822137843574092\n",
      "[14, 23, 10]\n",
      "10.822137843574092\n",
      "[14, 23, 10]\n",
      "10.822137843574092\n",
      "[14, 23, 10]\n",
      "11.089410910500183\n",
      "[14]\n",
      "(51, 2)\n"
     ]
    }
   ],
   "source": [
    "generate_note_file()"
   ]
  },
  {
   "cell_type": "code",
   "execution_count": 7,
   "metadata": {},
   "outputs": [
    {
     "name": "stdout",
     "output_type": "stream",
     "text": [
      "1\n"
     ]
    }
   ],
   "source": [
    "import glob\n",
    "\n",
    "# for every (time-note) file in ./notes, generate .mid file \n",
    "\n",
    "notes = glob.glob(\"./notes/*.npy\")\n",
    "print(len(notes))\n",
    "\n",
    "for filename in notes:\n",
    "    sound_id = filename[-20:-4]\n",
    "    time_note_array = np.load(filename)\n",
    "    time_array, note_array = np.transpose(time_note_array)\n",
    "    x02_generate_midi.generate_midi_file(sound_id, time_array, np.array(note_array, dtype=int))"
   ]
  },
  {
   "cell_type": "code",
   "execution_count": 8,
   "metadata": {},
   "outputs": [
    {
     "name": "stdout",
     "output_type": "stream",
     "text": [
      "1\n"
     ]
    }
   ],
   "source": [
    "import glob\n",
    "\n",
    "# for every .mid file generate the .wav file with fluidsynth\n",
    "\n",
    "notes = glob.glob(\"./midi/*\")\n",
    "print(len(notes))\n",
    "for filename in notes:\n",
    "    x03_generate_wav.convert_midi_to_signal(filename)"
   ]
  },
  {
   "cell_type": "code",
   "execution_count": 9,
   "metadata": {
    "scrolled": true
   },
   "outputs": [
    {
     "name": "stdout",
     "output_type": "stream",
     "text": [
      "1\n"
     ]
    }
   ],
   "source": [
    "# for every .wav file do some processing and generate another .wav file\n",
    "\n",
    "files = glob.glob('./wav/*')\n",
    "save_location = './wav_processed/'\n",
    "print(len(files))\n",
    "for filename in files:\n",
    "    x04_generate_wav_processed.process_wav(filename, save_location)"
   ]
  },
  {
   "cell_type": "code",
   "execution_count": 10,
   "metadata": {},
   "outputs": [],
   "source": [
    "import soundfile as sf\n",
    "import sounddevice as sd\n",
    "\n",
    "audio, sr = sf.read(files[0])\n",
    "\n",
    "sd.play(audio, samplerate=sr)"
   ]
  },
  {
   "cell_type": "code",
   "execution_count": 11,
   "metadata": {},
   "outputs": [
    {
     "name": "stdout",
     "output_type": "stream",
     "text": [
      "1\n"
     ]
    }
   ],
   "source": [
    "import glob\n",
    "files = glob.glob('./wav_processed/*')\n",
    "print(len(files))\n",
    "for filename in files:\n",
    "    x05_generate_spectrogram.generate_spectrogram(filename)"
   ]
  },
  {
   "cell_type": "code",
   "execution_count": 12,
   "metadata": {},
   "outputs": [],
   "source": [
    "import soundfile as sf\n",
    "import sounddevice as sd\n",
    "\n",
    "audio, sr = sf.read(files[0])\n",
    "\n",
    "sd.play(audio, samplerate=sr)"
   ]
  },
  {
   "cell_type": "code",
   "execution_count": 13,
   "metadata": {},
   "outputs": [
    {
     "name": "stdout",
     "output_type": "stream",
     "text": [
      "1\n"
     ]
    }
   ],
   "source": [
    "# for every time-note file .npy generate .npy labels\n",
    "\n",
    "import glob\n",
    "\n",
    "notes = glob.glob(\"./notes/*.npy\")\n",
    "print(len(notes))\n",
    "\n",
    "for filename in notes:\n",
    "#     sound_id = filename[-20:-4]\n",
    "#     time_note_array = np.load(filename)\n",
    "#     time_array, note_array = np.transpose(time_note_array)\n",
    "    x06_generate_label.generate_label(filename)"
   ]
  },
  {
   "cell_type": "code",
   "execution_count": 14,
   "metadata": {},
   "outputs": [
    {
     "name": "stdout",
     "output_type": "stream",
     "text": [
      "C9840144158181EA.npy\n",
      "C9840144158181EA.mid\n",
      "C9840144158181EA.wav\n",
      "C9840144158181EA.wav\n",
      "C9840144158181EA.npy\n",
      "C9840144158181EA.npy\n"
     ]
    }
   ],
   "source": [
    "!ls ./notes/\n",
    "!ls ./midi/\n",
    "!ls ./wav/\n",
    "!ls ./wav_processed/\n",
    "!ls ./spectrogram/\n",
    "!ls ./label/"
   ]
  },
  {
   "cell_type": "markdown",
   "metadata": {},
   "source": [
    "# If you are doing this on the cloud \n",
    "With no driver to synthesize music, start from here\n",
    "\n",
    "Un-silence the following cell:"
   ]
  },
  {
   "cell_type": "code",
   "execution_count": 15,
   "metadata": {},
   "outputs": [],
   "source": [
    "# !cp -r ./sample/* ./"
   ]
  },
  {
   "cell_type": "code",
   "execution_count": 16,
   "metadata": {},
   "outputs": [],
   "source": [
    "import glob\n",
    "import matplotlib.pyplot as plt\n",
    "\n",
    "glob_label = glob.glob('./label/*')\n",
    "glob_spectrogram = glob.glob('./spectrogram/*')\n",
    "glob_notes = glob.glob('./notes/*.npy')"
   ]
  },
  {
   "cell_type": "code",
   "execution_count": 17,
   "metadata": {},
   "outputs": [
    {
     "name": "stdout",
     "output_type": "stream",
     "text": [
      "./notes/C9840144158181EA.npy\n",
      "(51, 2)\n"
     ]
    },
    {
     "data": {
      "image/png": "[encoded data removed]",
      "text/plain": [
       "<Figure size 1080x216 with 1 Axes>"
      ]
     },
     "metadata": {},
     "output_type": "display_data"
    }
   ],
   "source": [
    "for notes_ in glob_notes:\n",
    "    print(notes_)\n",
    "    \n",
    "    notes = np.load(notes_)\n",
    "    \n",
    "    print(np.shape(notes))\n",
    "    plt.figure(figsize=(15,3))\n",
    "    plt.scatter(notes[:,0],notes[:,1])\n",
    "    plt.show()"
   ]
  },
  {
   "cell_type": "code",
   "execution_count": 18,
   "metadata": {},
   "outputs": [
    {
     "name": "stdout",
     "output_type": "stream",
     "text": [
      "./label/C9840144158181EA.npy\n",
      "(171, 24)\n"
     ]
    },
    {
     "data": {
      "image/png": "[encoded data removed]",
      "text/plain": [
       "<Figure size 1080x216 with 1 Axes>"
      ]
     },
     "metadata": {},
     "output_type": "display_data"
    }
   ],
   "source": [
    "# plotting the labels to ensure that they are produced correctly\n",
    "\n",
    "for label_ in glob_label:\n",
    "    print(label_)\n",
    "    \n",
    "    label = np.load(label_)\n",
    "    \n",
    "    print(np.shape(label))\n",
    "    plt.figure(figsize=(15,3))\n",
    "    for i,time_slice in enumerate(label):\n",
    "        for j,note in enumerate(time_slice):\n",
    "            if note != 0:\n",
    "                plt.scatter(i,j)\n",
    "    plt.show()"
   ]
  },
  {
   "cell_type": "code",
   "execution_count": 19,
   "metadata": {},
   "outputs": [],
   "source": [
    "def generate_random_cnn_lstm_input_and_target_label(spectrogram, label):\n",
    "    print(np.shape(label))\n",
    "    print(np.shape(spectrogram))\n",
    "    length = np.shape(spectrogram)[1] - 108\n",
    "    print(length)\n",
    "    random_point = np.random.randint(0,length)\n",
    "    print(random_point)\n",
    "\n",
    "    cnn_input = spectrogram[:,random_point:random_point+108]\n",
    "    lstm_input = label[random_point//27:random_point//27+20,:]\n",
    "    target_label = label[random_point//27+20,:]\n",
    "    \n",
    "    plt.figure(figsize=(4,4))\n",
    "    plt.imshow(cnn_input.astype(float))\n",
    "    plt.clim(0,0.4)\n",
    "    plt.colorbar()\n",
    "    plt.show()\n",
    "    \n",
    "    if random_point>17*27:\n",
    "        spec_show = spectrogram[:,random_point-17*27:random_point+108]\n",
    "        plt.figure(figsize=(21,4))\n",
    "        plt.imshow(spec_show.astype(float))\n",
    "        plt.clim(0,0.5)\n",
    "        plt.show()\n",
    "    print(\"target_label: \")\n",
    "    print(target_label)\n",
    "    print(\"next two labels: \")\n",
    "    print(label[random_point//27+21,:])\n",
    "    print(label[random_point//27+22,:])\n",
    "    \n",
    "    plt.figure(figsize=(21,4))\n",
    "    # plot lstm_input\n",
    "    for i,time_slice in enumerate(lstm_input):\n",
    "        for j,note in enumerate(time_slice):\n",
    "            if note != 0:\n",
    "                plt.scatter(i+1,j)\n",
    "    \n",
    "    # plot target_labels\n",
    "#     for i,time_slice in enumerate(target_label):\n",
    "    for j,note in enumerate(target_label):\n",
    "        if note != 0:\n",
    "            plt.scatter(20+1,j, marker=\"x\")\n",
    "        \n",
    "    plt.xlim(0, 21)\n",
    "    plt.ylim(-1, 24)\n",
    "    plt.show()\n",
    "    \n",
    "    return cnn_input, lstm_input, target_label\n"
   ]
  },
  {
   "cell_type": "code",
   "execution_count": 20,
   "metadata": {},
   "outputs": [
    {
     "name": "stdout",
     "output_type": "stream",
     "text": [
      "(171, 24)\n",
      "(108, 4053)\n",
      "3945\n",
      "83\n"
     ]
    },
    {
     "data": {
      "image/png": "[encoded data removed]",
      "text/plain": [
       "<Figure size 288x288 with 2 Axes>"
      ]
     },
     "metadata": {},
     "output_type": "display_data"
    },
    {
     "name": "stdout",
     "output_type": "stream",
     "text": [
      "target_label: \n",
      "[0. 0. 0. 0. 0. 0. 0. 0. 0. 0. 0. 0. 0. 0. 0. 0. 0. 0. 0. 0. 0. 0. 0. 0.]\n",
      "next two labels: \n",
      "[0. 0. 0. 0. 0. 0. 0. 0. 0. 0. 0. 0. 0. 0. 0. 0. 0. 0. 0. 0. 0. 0. 0. 0.]\n",
      "[0. 0. 0. 0. 0. 0. 0. 0. 0. 0. 0. 0. 0. 0. 0. 0. 0. 0. 0. 0. 0. 0. 0. 0.]\n"
     ]
    },
    {
     "data": {
      "image/png": "[encoded data removed]",
      "text/plain": [
       "<Figure size 1512x288 with 1 Axes>"
      ]
     },
     "metadata": {},
     "output_type": "display_data"
    }
   ],
   "source": [
    "for spectrogram_,label_ in zip(glob_spectrogram,glob_label):\n",
    "    \n",
    "    spectrogram = np.load(spectrogram_)\n",
    "    label = np.load(label_)\n",
    "    cnn_input, lstm_input, target_label = generate_random_cnn_lstm_input_and_target_label(spectrogram,label)"
   ]
  },
  {
   "cell_type": "code",
   "execution_count": 21,
   "metadata": {},
   "outputs": [
    {
     "name": "stdout",
     "output_type": "stream",
     "text": [
      "(108, 4053)\n",
      "(108, 4053)\n",
      "(108, 1, 108, 147)\n",
      "(147, 1, 108, 108)\n",
      "(1, 108, 108)\n"
     ]
    }
   ],
   "source": [
    "for spectrogram_ in glob_spectrogram:\n",
    "    \n",
    "    spectrogram = np.load(spectrogram_)\n",
    "    \n",
    "    print(np.shape(spectrogram))\n",
    "    print(np.shape(spectrogram[:,:]))\n",
    "    cnn_inputs = np.array(list(zip([spectrogram[:,i:-108+i:27] for i in range(108)])))\n",
    "    print(np.shape(cnn_inputs))\n",
    "    cnn_inputs = np.swapaxes(cnn_inputs,0,3)\n",
    "    print(np.shape(cnn_inputs))\n",
    "    cnn_inputs = [cnn_input for cnn_input in cnn_inputs]\n",
    "    print(np.shape(cnn_inputs[1]))\n",
    "#     plt.imshow(cnn_inputs[7][0,:,:])\n",
    "#     plt.colorbar()\n",
    "#     plt.show()\n"
   ]
  },
  {
   "cell_type": "code",
   "execution_count": 22,
   "metadata": {
    "scrolled": false
   },
   "outputs": [
    {
     "name": "stdout",
     "output_type": "stream",
     "text": [
      "(151, 1, 20, 24)\n"
     ]
    },
    {
     "data": {
      "image/png": "[encoded data removed]",
      "text/plain": [
       "<Figure size 1080x216 with 1 Axes>"
      ]
     },
     "metadata": {},
     "output_type": "display_data"
    }
   ],
   "source": [
    "# loading the LSTM labels for comparison\n",
    "\n",
    "for notes_, label_, spectrogram_ in zip(glob_notes, glob_label, glob_spectrogram):\n",
    "    \n",
    "    lstm_inputs = np.array(list(zip([label[i:-20+i] for i in range(20)])))\n",
    "    lstm_inputs = np.swapaxes(lstm_inputs,0,2)\n",
    "    print(np.shape(lstm_inputs))\n",
    "    \n",
    "    plt.figure(figsize=(15,3))\n",
    "    ground_truth = []\n",
    "    for i,lstm_input in enumerate(lstm_inputs):\n",
    "        for time_slice in lstm_input[:,-1,:]:\n",
    "            for j,note in enumerate(time_slice):\n",
    "#                 print(note)\n",
    "                if note != 0:\n",
    "                    ground_truth.append((i,j))\n",
    "    \n",
    "    ground_truth = np.transpose(ground_truth)\n",
    "    plt.scatter(ground_truth[:][0],ground_truth[:][1])\n",
    "plt.show()"
   ]
  },
  {
   "cell_type": "code",
   "execution_count": 23,
   "metadata": {},
   "outputs": [],
   "source": [
    "# transcription with the model\n",
    "\n",
    "lstm_memory = np.zeros((1,20,24))\n",
    "predicted_score = []\n",
    "\n",
    "for i,cnn_input in enumerate(cnn_inputs):\n",
    "    \n",
    "#     print(np.shape(cnn_input))\n",
    "#     print(np.shape(lstm_input))\n",
    "#     give_prediction(classifier, np.zeros((1,20,24)), np.zeros((1,108,108,1)))\n",
    "#     print(lstm_input[-1,-1])\n",
    "#     print(result)\n",
    "    result = give_prediction(classifier, lstm_memory, cnn_input.reshape((1,108,108,1)))\n",
    "    lstm_memory[0,:-1] = np.copy(lstm_memory[0,1:])\n",
    "    lstm_memory[0,-1] = np.copy(result)\n",
    "    for j, note in enumerate(result[0]):\n",
    "        if note != 0:\n",
    "            predicted_score.append([i,j])\n",
    "predicted_score = np.transpose(predicted_score)"
   ]
  },
  {
   "cell_type": "code",
   "execution_count": 24,
   "metadata": {
    "scrolled": false
   },
   "outputs": [
    {
     "data": {
      "image/png": "[encoded data removed]",
      "text/plain": [
       "<Figure size 1080x216 with 1 Axes>"
      ]
     },
     "metadata": {},
     "output_type": "display_data"
    }
   ],
   "source": [
    "# compare result \n",
    "plt.figure(figsize=(15,3))\n",
    "plt.scatter(ground_truth[0], ground_truth[1], marker='o')\n",
    "plt.scatter(predicted_score[0], predicted_score[1], marker='x') # should -20      \n",
    "plt.show()"
   ]
  },
  {
   "cell_type": "code",
   "execution_count": 25,
   "metadata": {},
   "outputs": [],
   "source": [
    "# problem of the training inventising not to predict any notes rather than predict note at the wrong time\n",
    "### exponential decaying labels\n",
    "# the debate between onset only labels and label for the entire duration of the note\n",
    "# \n",
    "# hk todo:\n",
    "# create dataset, put online\n",
    "# why is it predicting ahead of time? need to look at CNN output\n",
    "# prolly make the hyperparameters variables 2**7, 108x108, 20x24 for different kind of training"
   ]
  },
  {
   "cell_type": "code",
   "execution_count": null,
   "metadata": {},
   "outputs": [],
   "source": []
  },
  {
   "cell_type": "code",
   "execution_count": null,
   "metadata": {},
   "outputs": [],
   "source": []
  }
 ],
 "metadata": {
  "kernelspec": {
   "display_name": "Python [conda env:nd]",
   "language": "python",
   "name": "conda-env-nd-py"
  },
  "language_info": {
   "codemirror_mode": {
    "name": "ipython",
    "version": 3
   },
   "file_extension": ".py",
   "mimetype": "text/x-python",
   "name": "python",
   "nbconvert_exporter": "python",
   "pygments_lexer": "ipython3",
   "version": "3.6.5"
  }
 },
 "nbformat": 4,
 "nbformat_minor": 2
}
